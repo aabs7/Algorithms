{
 "cells": [
  {
   "cell_type": "code",
   "execution_count": 1,
   "id": "certain-ocean",
   "metadata": {},
   "outputs": [],
   "source": [
    "import numpy as np"
   ]
  },
  {
   "cell_type": "code",
   "execution_count": 2,
   "id": "cathedral-registration",
   "metadata": {},
   "outputs": [],
   "source": [
    "A = [12, 11, 13, 5, 6, 7] \n",
    "LARGE_NUMBER = 12345678"
   ]
  },
  {
   "cell_type": "code",
   "execution_count": 3,
   "id": "serial-light",
   "metadata": {},
   "outputs": [],
   "source": [
    "# [p,......,q,.......,r]\n",
    "\n",
    "def merge(A,p,q,r):\n",
    "    n1 = q - p + 1\n",
    "    n2 = r - q\n",
    "    \n",
    "    # create left and right arrays\n",
    "    L = [0] * (n1)\n",
    "    R = [0] * (n2)\n",
    "    \n",
    "    # store values in it\n",
    "    for i in range(n1):\n",
    "        L[i] = A[p + i]\n",
    "    for j in range(n2):\n",
    "        R[j] = A[q + j + 1]\n",
    "    \n",
    "    # Merge the temp array back into A[p....r]\n",
    "    i = 0\n",
    "    j = 0\n",
    "    k = p\n",
    "    \n",
    "    while i < n1 and j < n2:\n",
    "        if L[i] <= R[j]:\n",
    "            A[k] = L[i]\n",
    "            i = i + 1\n",
    "        else:\n",
    "            A[k] = R[j]\n",
    "            j = j + 1\n",
    "        k += 1\n",
    "    \n",
    "    # copy the remaining elements of L[] if there are any\n",
    "    while i < n1:\n",
    "        A[k] = L[i]\n",
    "        i += 1\n",
    "        k += 1\n",
    "        \n",
    "    # copy the remaining elements of R[] if there are any\n",
    "    while j < n2:\n",
    "        A[k] = R[j]\n",
    "        j += 1\n",
    "        k += 1"
   ]
  },
  {
   "cell_type": "code",
   "execution_count": 4,
   "id": "selective-festival",
   "metadata": {},
   "outputs": [],
   "source": [
    "def merge_sort(A,p,r):\n",
    "    if p < r:\n",
    "        # Find the middle point to divide the array into two halves\n",
    "        q = (p + (r-1))//2\n",
    "        # Call mergesort for the first half\n",
    "        merge_sort(A,p,q)\n",
    "        # Call mergesort for the second half\n",
    "        merge_sort(A,q+1,r)\n",
    "        # Merge the two halves sorted in step 2 and step 3\n",
    "        merge(A,p,q,r)"
   ]
  },
  {
   "cell_type": "code",
   "execution_count": 5,
   "id": "major-might",
   "metadata": {},
   "outputs": [
    {
     "name": "stdout",
     "output_type": "stream",
     "text": [
      "[5, 6, 7, 11, 12, 13]\n"
     ]
    }
   ],
   "source": [
    "merge_sort(A,0,len(A) - 1)\n",
    "print(A)"
   ]
  }
 ],
 "metadata": {
  "kernelspec": {
   "display_name": "Python 3",
   "language": "python",
   "name": "python3"
  },
  "language_info": {
   "codemirror_mode": {
    "name": "ipython",
    "version": 3
   },
   "file_extension": ".py",
   "mimetype": "text/x-python",
   "name": "python",
   "nbconvert_exporter": "python",
   "pygments_lexer": "ipython3",
   "version": "3.8.5"
  }
 },
 "nbformat": 4,
 "nbformat_minor": 5
}
