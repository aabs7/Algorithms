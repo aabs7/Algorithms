{
 "cells": [
  {
   "cell_type": "markdown",
   "metadata": {},
   "source": [
    "# Breadth First Search (BFS)"
   ]
  },
  {
   "cell_type": "code",
   "execution_count": 47,
   "metadata": {},
   "outputs": [],
   "source": [
    "import queue\n",
    "# Graph with 7 nodes and 6 edges"
   ]
  },
  {
   "cell_type": "code",
   "execution_count": 48,
   "metadata": {},
   "outputs": [],
   "source": [
    "def BFS(G,s):\n",
    "    n = len(G)\n",
    "    # we store the color of each vertex in color\n",
    "    color = [\"WHITE\"] * n\n",
    "    # d stores the distance from source to vertex u\n",
    "    d = [0] * n\n",
    "    # we store the predecessor of vertex in pi\n",
    "    # if vertex has no predecessor for example start vertex, then the value is set as NIL\n",
    "    pi = [-1] * n\n",
    "\n",
    "    q = queue.Queue()\n",
    "\n",
    "    # put the root node in queue\n",
    "    q.put(s)\n",
    "\n",
    "    # distance of root node is 0 and color is gray as it is visited now.\n",
    "    d[s] = 0\n",
    "    color[s] = \"GRAY\"\n",
    "\n",
    "    # Loop to traverse the graph. Traversal will happen until the queue is not empty\n",
    "    # In another word, this loop runs as long as there remains GRAY vertices. \n",
    "    # which are discovered vertices whose adjacency list are not fully examined.\n",
    "    while (not q.empty()):\n",
    "        # Extracting the front element(node) and popping it out of the queue\n",
    "        u = q.get()\n",
    "\n",
    "        # This loop traverses all the child nodes of u\n",
    "        i = 0\n",
    "        while i < len(g[u]):\n",
    "            # If the color is WHITE then the said node is not traversed\n",
    "            if (color[g[u][i]] == \"WHITE\"):\n",
    "                # Now the node is visited\n",
    "                color[g[u][i]] = \"GRAY\"\n",
    "                # increase the distance by 1\n",
    "                d[g[u][i]] = d[u] + 1\n",
    "                pi[g[u][i]] = u\n",
    "\n",
    "                # Pushing the node inside queue to traverse its children\n",
    "                q.put(g[u][i])\n",
    "            # now increament i so that it sees another node in the breadth\n",
    "            i += 1\n",
    "        \n",
    "        # Now the node u is completely traversed, change the color to BLACK\n",
    "        color[u] = \"BLACK\"         \n",
    "    return d, pi, color    \n"
   ]
  },
  {
   "cell_type": "code",
   "execution_count": 49,
   "metadata": {},
   "outputs": [],
   "source": [
    "# pi is given as extra variable compared to clrs implementation because pi is not considered global\n",
    "def print_path(s,pi,v):\n",
    "    # If the goal vertex is the start vertex\n",
    "    if v == s:\n",
    "        print(\"Path = \",s)\n",
    "    elif (pi[v] == -1):\n",
    "        print(\"Path doesn't exist\")\n",
    "    else:\n",
    "        print_path(s,pi,pi[v])\n",
    "        print(v)\n",
    "\n",
    "\n"
   ]
  },
  {
   "cell_type": "code",
   "execution_count": 61,
   "metadata": {},
   "outputs": [
    {
     "name": "stdout",
     "output_type": "stream",
     "text": [
      "Graph: [[1, 2], [0, 3, 4], [0, 5, 6], [1], [1], [2], [2]]\n",
      "pi =  [-1, 0, 0, 1, 1, 2, 2]\n",
      "d =  [0, 1, 1, 2, 2, 2, 2]\n",
      "Path =  0\n",
      "2\n",
      "6\n"
     ]
    }
   ],
   "source": [
    "# Adds an edge to the graph\n",
    "# The graph is undirected so edges are added for both the nodes.\n",
    "def add_edge(g,u,v):\n",
    "    g[u].append(v)\n",
    "    g[v].append(u)\n",
    "\n",
    "\n",
    "n = 7\n",
    "\n",
    "# we store the color of each vertex in color\n",
    "color = [None] * n\n",
    "# d stores the distance from source to vertex u\n",
    "d = [None] * n\n",
    "# we store the predecessor of vertex in pi\n",
    "# if vertex has no predecessor for example start vertex, then the value is set as NIL\n",
    "pi = [None] * n\n",
    "\n",
    "# The graph vector \n",
    "g = [[] for i in range(n)]\n",
    "\n",
    "add_edge(g,0,1)\n",
    "add_edge(g,0,2)\n",
    "add_edge(g,1,3)\n",
    "add_edge(g,1,4)\n",
    "add_edge(g,2,5)\n",
    "add_edge(g,2,6)\n",
    "print(\"Graph:\", g)\n",
    "\n",
    "# start node\n",
    "s = 0\n",
    "\n",
    "d,pi,color = BFS(g,s)\n",
    "print(\"pi = \",pi)\n",
    "print(\"d = \",d)\n",
    "\n",
    "print_path(0,pi,6)"
   ]
  },
  {
   "cell_type": "markdown",
   "metadata": {},
   "source": [
    "# Depth First Search (DFS)"
   ]
  },
  {
   "cell_type": "code",
   "execution_count": 62,
   "metadata": {},
   "outputs": [],
   "source": [
    "time = 0\n",
    "n = len(g)\n",
    "color = [None] * n\n",
    "pi = [None] * n\n",
    "# when BFS discovers vertex u, save the timestamp in d\n",
    "d = [None] * n\n",
    "# when BFS finishes searching vertex u, save the timestamp in f\n",
    "f = [0] * n\n",
    "\n",
    "def DFS_visit(G,u):\n",
    "    global time\n",
    "    global f\n",
    "    time = time + 1\n",
    "    d[u] = time\n",
    "    color[u] = \"GRAY\"\n",
    "\n",
    "    for v in G[u]:\n",
    "        print(v)\n",
    "        if color[v] == \"WHITE\":\n",
    "            pi[v] = u\n",
    "            DFS_visit(G,v)\n",
    "    color[u] = \"BLACK\"\n",
    "    f[u] = time\n",
    "\n",
    "\n",
    "def DFS(G):\n",
    "    global color,pi,d,f\n",
    "    n = len(G)\n",
    "    color = [\"WHITE\"] * n\n",
    "    pi = [-1] * n\n",
    "    d = [0] * n\n",
    "\n",
    "    for i in range(n):\n",
    "        if color[i] == \"WHITE\":\n",
    "            DFS_visit(G,i)\n",
    "\n",
    "\n"
   ]
  },
  {
   "cell_type": "code",
   "execution_count": 63,
   "metadata": {},
   "outputs": [
    {
     "name": "stdout",
     "output_type": "stream",
     "text": [
      "1\n",
      "0\n",
      "3\n",
      "1\n",
      "4\n",
      "1\n",
      "2\n",
      "0\n",
      "5\n",
      "2\n",
      "6\n",
      "2\n",
      "Pi =  [-1, 0, 0, 1, 1, 2, 2]\n",
      "d =  [1, 2, 5, 3, 4, 6, 7]\n",
      "f =  [7, 4, 7, 3, 4, 6, 7]\n"
     ]
    }
   ],
   "source": [
    "DFS(g)\n",
    "print(\"Pi = \",pi)\n",
    "print(\"d = \", d)\n",
    "print(\"f = \",f)"
   ]
  },
  {
   "cell_type": "code",
   "execution_count": null,
   "metadata": {},
   "outputs": [],
   "source": []
  }
 ],
 "metadata": {
  "interpreter": {
   "hash": "916dbcbb3f70747c44a77c7bcd40155683ae19c65e1c03b4aa3499c5328201f1"
  },
  "kernelspec": {
   "display_name": "Python 3",
   "language": "python",
   "name": "python3"
  },
  "language_info": {
   "codemirror_mode": {
    "name": "ipython",
    "version": 3
   },
   "file_extension": ".py",
   "mimetype": "text/x-python",
   "name": "python",
   "nbconvert_exporter": "python",
   "pygments_lexer": "ipython3",
   "version": "3.8.12"
  }
 },
 "nbformat": 4,
 "nbformat_minor": 2
}
