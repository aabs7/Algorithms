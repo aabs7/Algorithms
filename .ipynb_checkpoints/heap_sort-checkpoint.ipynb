{
 "cells": [
  {
   "cell_type": "code",
   "execution_count": 1,
   "id": "tested-opposition",
   "metadata": {},
   "outputs": [],
   "source": [
    "import numpy as np"
   ]
  },
  {
   "cell_type": "code",
   "execution_count": 2,
   "id": "metropolitan-affiliation",
   "metadata": {},
   "outputs": [],
   "source": [
    "def left(i):\n",
    "    return (2 * i + 1)\n",
    "\n",
    "def right(i):\n",
    "    return (2 * i + 2)\n",
    "\n",
    "def parent(i):\n",
    "    return i // 2"
   ]
  },
  {
   "cell_type": "code",
   "execution_count": 3,
   "id": "promising-james",
   "metadata": {},
   "outputs": [],
   "source": [
    "def max_heapify(arr,i,heap_size):\n",
    "    l = left(i)\n",
    "    r = right(i)\n",
    "    \n",
    "    if l < heap_size and arr[l] > arr[i]:\n",
    "        largest = l\n",
    "    else:\n",
    "        largest = i\n",
    "        \n",
    "    if r < heap_size and arr[r] > arr[largest]:\n",
    "        largest = r\n",
    "        \n",
    "    if largest != i:\n",
    "        arr[i],arr[largest] = arr[largest],arr[i] #swap\n",
    "        max_heapify(arr,largest,heap_size)"
   ]
  },
  {
   "cell_type": "code",
   "execution_count": 4,
   "id": "continued-gothic",
   "metadata": {},
   "outputs": [],
   "source": [
    "def build_max_heap(arr):\n",
    "    heap_size = len(arr)\n",
    "    \n",
    "    # Since last parent will be at ((n//2) - 1), we can start at that location\n",
    "    for i in range(heap_size // 2 - 1, -1 , -1):\n",
    "        max_heapify(arr,i,heap_size)\n",
    "        \n",
    "    # One by one extract elements from the root of heap tree\n",
    "    for i in range(heap_size - 1, 0 , -1):\n",
    "        arr[i],arr[0] = arr[0],arr[i]\n",
    "        max_heapify(arr,0,i)\n"
   ]
  },
  {
   "cell_type": "code",
   "execution_count": 5,
   "id": "applicable-johns",
   "metadata": {},
   "outputs": [
    {
     "name": "stdout",
     "output_type": "stream",
     "text": [
      "[5, 6, 7, 11, 12, 13]\n"
     ]
    }
   ],
   "source": [
    "arr = [12,11,13,5,6,7]\n",
    "build_max_heap(arr)\n",
    "print(arr)"
   ]
  }
 ],
 "metadata": {
  "kernelspec": {
   "display_name": "Python 3",
   "language": "python",
   "name": "python3"
  },
  "language_info": {
   "codemirror_mode": {
    "name": "ipython",
    "version": 3
   },
   "file_extension": ".py",
   "mimetype": "text/x-python",
   "name": "python",
   "nbconvert_exporter": "python",
   "pygments_lexer": "ipython3",
   "version": "3.8.12"
  }
 },
 "nbformat": 4,
 "nbformat_minor": 5
}
