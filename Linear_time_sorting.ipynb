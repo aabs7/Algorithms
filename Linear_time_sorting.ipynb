{
 "cells": [
  {
   "cell_type": "markdown",
   "metadata": {},
   "source": [
    "## Counting Sort"
   ]
  },
  {
   "cell_type": "code",
   "execution_count": 1,
   "metadata": {},
   "outputs": [],
   "source": [
    "A = [2,5,3,0,2,3,0,3]"
   ]
  },
  {
   "cell_type": "code",
   "execution_count": 2,
   "metadata": {},
   "outputs": [
    {
     "data": {
      "text/plain": [
       "5"
      ]
     },
     "execution_count": 2,
     "metadata": {},
     "output_type": "execute_result"
    }
   ],
   "source": [
    "max(A)"
   ]
  },
  {
   "cell_type": "code",
   "execution_count": 3,
   "metadata": {
    "scrolled": true
   },
   "outputs": [
    {
     "name": "stdout",
     "output_type": "stream",
     "text": [
      "B =  [None, None, None, None, None, None, 3, None]\n",
      "B =  [None, 0, None, None, None, None, 3, None]\n",
      "B =  [None, 0, None, None, None, 3, 3, None]\n",
      "B =  [None, 0, None, 2, None, 3, 3, None]\n",
      "B =  [0, 0, None, 2, None, 3, 3, None]\n",
      "B =  [0, 0, None, 2, 3, 3, 3, None]\n",
      "B =  [0, 0, None, 2, 3, 3, 3, 5]\n",
      "B =  [0, 0, 2, 2, 3, 3, 3, 5]\n"
     ]
    }
   ],
   "source": [
    "k = max(A)\n",
    "\n",
    "C = [0] * (k+1) # Temporary working storage\n",
    "B = [None] * len(A) # Sorted output\n",
    "\n",
    "for i in range(len(A)):\n",
    "    C[A[i]] += 1\n",
    "# Now C[i] contains the number of elements equal to i\n",
    "\n",
    "for i in range(1,k+1):\n",
    "    C[i] = C[i] + C[i-1]\n",
    "# Now C[i] contains the number of elements less than or equal to i\n",
    "\n",
    "\n",
    "for j in range(len(A)-1,-1,-1):\n",
    "    B[C[A[j]]-1] = A[j]\n",
    "    C[A[j]] = C[A[j]] - 1\n",
    "    print(\"B = \",B)\n"
   ]
  },
  {
   "cell_type": "code",
   "execution_count": 4,
   "metadata": {},
   "outputs": [],
   "source": [
    "def counting_sort(A):\n",
    "    k = max(A)\n",
    "\n",
    "    C = [0] * (k+1) # Temporary working storage\n",
    "    B = [None] * len(A) # Sorted output\n",
    "\n",
    "    for i in range(len(A)):\n",
    "        C[A[i]] += 1\n",
    "    # Now C[i] contains the number of elements equal to i\n",
    "\n",
    "    for i in range(1,k+1):\n",
    "        C[i] = C[i] + C[i-1]\n",
    "    # Now C[i] contains the number of elements less than or equal to i\n",
    "\n",
    "\n",
    "    for j in range(len(A)-1,-1,-1):\n",
    "        B[C[A[j]]-1] = A[j]\n",
    "        C[A[j]] = C[A[j]] - 1\n",
    "        \n",
    "    return B"
   ]
  },
  {
   "cell_type": "code",
   "execution_count": 5,
   "metadata": {},
   "outputs": [
    {
     "name": "stdout",
     "output_type": "stream",
     "text": [
      "Unsorted array:  [2, 5, 3, 0, 2, 3, 0, 3]\n",
      "Sorted array: [0, 0, 2, 2, 3, 3, 3, 5]\n"
     ]
    }
   ],
   "source": [
    "sorted_array = counting_sort(A)\n",
    "print(\"Unsorted array: \",A)\n",
    "print(\"Sorted array:\", sorted_array)"
   ]
  },
  {
   "cell_type": "markdown",
   "metadata": {},
   "source": [
    "## Radix Sort"
   ]
  },
  {
   "cell_type": "code",
   "execution_count": 6,
   "metadata": {},
   "outputs": [],
   "source": [
    "unsorted_array = [329,457,657,839,436,720,355]\n",
    "A = list(unsorted_array)\n",
    "#given that all the array has 'd' at most of 1st element\n",
    "d = len(str(A[0]))\n"
   ]
  },
  {
   "cell_type": "code",
   "execution_count": 7,
   "metadata": {},
   "outputs": [
    {
     "name": "stdout",
     "output_type": "stream",
     "text": [
      "[329, 355, 436, 457, 657, 720, 839]\n"
     ]
    }
   ],
   "source": [
    "def string_radix_sort(A,d):\n",
    "    for i in reversed(range(0,d)):\n",
    "        B = counting_sort(A)\n",
    "    return B\n",
    "\n",
    "sorted_array = string_radix_sort(A,d)\n",
    "print(sorted_array)"
   ]
  }
 ],
 "metadata": {
  "kernelspec": {
   "display_name": "Python 3",
   "language": "python",
   "name": "python3"
  },
  "language_info": {
   "codemirror_mode": {
    "name": "ipython",
    "version": 3
   },
   "file_extension": ".py",
   "mimetype": "text/x-python",
   "name": "python",
   "nbconvert_exporter": "python",
   "pygments_lexer": "ipython3",
   "version": "3.8.5"
  }
 },
 "nbformat": 4,
 "nbformat_minor": 4
}
