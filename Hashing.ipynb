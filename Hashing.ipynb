{
 "cells": [
  {
   "cell_type": "markdown",
   "metadata": {},
   "source": [
    "## Very simple implementation (Simple hash table)\n",
    "\n",
    "This deals with generating slot or index to any \"key\" value. Perfect hashing or perfect hash function is the one which assigns a unique slot for every key value. Sometimes, there can be cases where the hash function generates the same index for multiple key values. The size of the hash table can be increased to improve the perfection of the hash function "
   ]
  },
  {
   "cell_type": "code",
   "execution_count": 1,
   "metadata": {},
   "outputs": [
    {
     "name": "stdout",
     "output_type": "stream",
     "text": [
      "[None, None, None, None, None, None, None, None, None, None]\n"
     ]
    }
   ],
   "source": [
    "# 10 size hash table\n",
    "hash_table = [None] * 10\n",
    "print(hash_table)"
   ]
  },
  {
   "cell_type": "code",
   "execution_count": 2,
   "metadata": {},
   "outputs": [
    {
     "name": "stdout",
     "output_type": "stream",
     "text": [
      "0\n",
      "5\n"
     ]
    }
   ],
   "source": [
    "def hashing_func(key):\n",
    "    return key % len(hash_table)\n",
    "\n",
    "# Simple hash function that returns the modulus of the length of the\n",
    "# table. \n",
    "\n",
    "print(hashing_func(10))\n",
    "print(hashing_func(25))"
   ]
  },
  {
   "cell_type": "code",
   "execution_count": 3,
   "metadata": {},
   "outputs": [
    {
     "name": "stdout",
     "output_type": "stream",
     "text": [
      "['Nepal', None, None, None, None, None, None, None, None, None]\n"
     ]
    }
   ],
   "source": [
    "# Inserting data into hash table.\n",
    "def insert(hash_table,key,value):\n",
    "    hash_key = hashing_func(key)\n",
    "    hash_table[hash_key] = value\n",
    "    \n",
    "def delete(hash_table,key):\n",
    "    hash_key = hashing_func(key)\n",
    "    hash_table[hash_key] = None\n",
    "    \n",
    "def search(hash_table,key):\n",
    "    hash_key = hashing_func(key)\n",
    "    return hash_table[hash_key]\n",
    "    \n",
    "insert(hash_table,10,'Nepal')\n",
    "print(hash_table)"
   ]
  },
  {
   "cell_type": "code",
   "execution_count": 4,
   "metadata": {},
   "outputs": [
    {
     "name": "stdout",
     "output_type": "stream",
     "text": [
      "['Nepal', None, None, None, None, 'USA', None, None, None, None]\n"
     ]
    }
   ],
   "source": [
    "insert(hash_table,25,'USA')\n",
    "print(hash_table)"
   ]
  },
  {
   "cell_type": "code",
   "execution_count": 5,
   "metadata": {},
   "outputs": [
    {
     "name": "stdout",
     "output_type": "stream",
     "text": [
      "['Nepal', None, None, None, None, None, None, None, None, None]\n",
      "Nepal\n"
     ]
    }
   ],
   "source": [
    "delete(hash_table,5)\n",
    "\n",
    "print(hash_table)\n",
    "\n",
    "print(search(hash_table,0))"
   ]
  },
  {
   "cell_type": "markdown",
   "metadata": {},
   "source": [
    "### Collision: \n",
    "\n",
    "A collision occurs when two items/value get the same slot/index, i.e the hashing function generates same slot number for multiple items. If proper collision resolution steps are not taken then the previous item in the slot will be replaced by the new item whenever the collision occurs. \n",
    "\n",
    "Eg:\n"
   ]
  },
  {
   "cell_type": "code",
   "execution_count": 6,
   "metadata": {},
   "outputs": [
    {
     "name": "stdout",
     "output_type": "stream",
     "text": [
      "['India', None, None, None, None, None, None, None, None, None]\n"
     ]
    }
   ],
   "source": [
    "insert(hash_table,20,'India')\n",
    "print(hash_table)"
   ]
  },
  {
   "cell_type": "markdown",
   "metadata": {},
   "source": [
    "As you can see that 'Nepal' is replaced by 'India' as the first item of the hash table because the result of ```hashing_func``` for keys 10 and 20 is the same i.e 0\n",
    "\n",
    "\n",
    "### Collision Resolution:\n",
    "\n",
    "### 1) Chaining:\n",
    "This allows multiple items to exist in the same slot/index. We place all the elements that has to the same slot into the same linked list. This slot 'j' contains a pointer to the head of the list of all stored elements that hash to 'j'.\n"
   ]
  },
  {
   "cell_type": "code",
   "execution_count": 7,
   "metadata": {},
   "outputs": [
    {
     "name": "stdout",
     "output_type": "stream",
     "text": [
      "[[], [], [], [], [], [], [], [], [], []]\n"
     ]
    }
   ],
   "source": [
    "hash_table = [[] for _ in range(10)]\n",
    "print(hash_table)"
   ]
  },
  {
   "cell_type": "code",
   "execution_count": 8,
   "metadata": {},
   "outputs": [],
   "source": [
    "def chained_hash_insert(hash_table,key,value):\n",
    "    hash_key = hashing_func(key)\n",
    "    hash_table[hash_key].append(value)\n",
    "    \n",
    "def chained_hash_delete(hash_table,key):\n",
    "    hash_key = hashing_func(key)\n",
    "    hash_table[hash_key] = []\n",
    "    \n",
    "def chained_hash_search(hash_table,key):\n",
    "    hash_key = hashing_func(key)\n",
    "    return(hash_table[hash_key])"
   ]
  },
  {
   "cell_type": "code",
   "execution_count": 9,
   "metadata": {},
   "outputs": [
    {
     "name": "stdout",
     "output_type": "stream",
     "text": [
      "[['Nepal'], [], [], [], [], [], [], [], [], []]\n",
      "\r\n",
      "\n",
      "[['Nepal'], [], [], [], [], ['USA'], [], [], [], []]\n",
      "\r\n",
      "\n",
      "[['Nepal', 'India'], [], [], [], [], ['USA'], [], [], [], []]\n",
      "\r\n",
      "\n"
     ]
    }
   ],
   "source": [
    "chained_hash_insert(hash_table,10,'Nepal')\n",
    "print(hash_table)\n",
    "print(\"\\r\\n\")\n",
    "\n",
    "chained_hash_insert(hash_table,25,'USA')\n",
    "print(hash_table)\n",
    "print(\"\\r\\n\")\n",
    "\n",
    "chained_hash_insert(hash_table,20,'India')\n",
    "print(hash_table)\n",
    "print(\"\\r\\n\")"
   ]
  },
  {
   "cell_type": "code",
   "execution_count": 10,
   "metadata": {},
   "outputs": [
    {
     "name": "stdout",
     "output_type": "stream",
     "text": [
      "[['Nepal', 'India'], [], [], [], [], [], [], [], [], []]\n"
     ]
    }
   ],
   "source": [
    "chained_hash_delete(hash_table,5)\n",
    "print(hash_table)"
   ]
  },
  {
   "cell_type": "code",
   "execution_count": 11,
   "metadata": {},
   "outputs": [
    {
     "data": {
      "text/plain": [
       "['Nepal', 'India']"
      ]
     },
     "execution_count": 11,
     "metadata": {},
     "output_type": "execute_result"
    }
   ],
   "source": [
    "chained_hash_search(hash_table, 20)"
   ]
  },
  {
   "cell_type": "markdown",
   "metadata": {},
   "source": [
    "# Hash functions\n",
    "\n",
    "1) **The division method:**\n",
    "\n",
    "```h(k) = k mod(m)```"
   ]
  },
  {
   "cell_type": "code",
   "execution_count": 12,
   "metadata": {},
   "outputs": [
    {
     "data": {
      "text/plain": [
       "10"
      ]
     },
     "execution_count": 12,
     "metadata": {},
     "output_type": "execute_result"
    }
   ],
   "source": [
    "def d_hashing_func(k,m):\n",
    "    return (k % m)\n",
    "\n",
    "d_hashing_func(1234,12)"
   ]
  },
  {
   "cell_type": "markdown",
   "metadata": {},
   "source": [
    "Avoid ```m = 2 ^ p``` because h(k) will always be p-lowest bit of k. For example"
   ]
  },
  {
   "cell_type": "code",
   "execution_count": 13,
   "metadata": {},
   "outputs": [
    {
     "name": "stdout",
     "output_type": "stream",
     "text": [
      "0b100\n",
      "0b101\n",
      "0b111\n"
     ]
    }
   ],
   "source": [
    "a1 = 0b100110100\n",
    "a2 = 0b11101110101\n",
    "a3 = 0b1100000111\n",
    "m = 2 ** 3\n",
    "\n",
    "h1 = d_hashing_func(a1,m)\n",
    "h2 = d_hashing_func(a2,m)\n",
    "h3 = d_hashing_func(a3,m)\n",
    "\n",
    "print(bin(h1))\n",
    "print(bin(h2))\n",
    "print(bin(h3))\n",
    "\n",
    "## Permuting the characters of k doesn't change it's hash value"
   ]
  },
  {
   "cell_type": "markdown",
   "metadata": {},
   "source": [
    "2) **The multiplication method**:\n",
    "\n",
    "```h(k) = floor(m(kA mod 1))``` where k is key and A can be any constant value between 0 and 1. both k and A are multiplied and their fractional part is seperated. \n",
    "\n",
    "The advantage here is that the value of m is not critical. we typically chose this as a power of 2. ```m = 2 ^ p``` because it is easier for computer to perform. "
   ]
  },
  {
   "cell_type": "code",
   "execution_count": 36,
   "metadata": {},
   "outputs": [
    {
     "name": "stdout",
     "output_type": "stream",
     "text": [
      "747\n"
     ]
    }
   ],
   "source": [
    "import numpy as np\n",
    "\n",
    "def m_hashing_func(k,m,A=0.618033):\n",
    "    return int(np.floor(m * ((k * A) % 1)))\n",
    "\n",
    "k = 12453\n",
    "m = 2 ** 11\n",
    "\n",
    "print(m_hashing_func(k,m))"
   ]
  },
  {
   "cell_type": "markdown",
   "metadata": {},
   "source": [
    "3) **The Universal method:**\n",
    "\n",
    "```h(k) = ((a * k + b) mod p ) mod m``` where k = key, p = large prime number, a & b = another prime number\n"
   ]
  },
  {
   "cell_type": "code",
   "execution_count": 37,
   "metadata": {},
   "outputs": [
    {
     "name": "stdout",
     "output_type": "stream",
     "text": [
      "156\n",
      "155\n"
     ]
    }
   ],
   "source": [
    "def lc_hashing_func(k,m): #lc = linear combination\n",
    "    p = 524287\n",
    "    a = 8191\n",
    "    b = 127\n",
    "    return ((a * k + b) % p) % m\n",
    "\n",
    "k = 12453\n",
    "k2 = 12454\n",
    "m = 2 ** 11\n",
    "\n",
    "print(lc_hashing_func(k,m))\n",
    "print(lc_hashing_func(k2,m))"
   ]
  },
  {
   "cell_type": "markdown",
   "metadata": {},
   "source": [
    "# Open Addressing"
   ]
  },
  {
   "cell_type": "code",
   "execution_count": null,
   "metadata": {},
   "outputs": [],
   "source": []
  },
  {
   "cell_type": "code",
   "execution_count": 59,
   "metadata": {},
   "outputs": [],
   "source": [
    "def hash_insert(hash_table,k,m):\n",
    "    i = 0\n",
    "    while True:\n",
    "#         print(i)\n",
    "        hash_key = lc_hashing_func(k,i)\n",
    "        if hash_table[hash_key] == None:\n",
    "            hash_table[hash_key] = k\n",
    "            return hash_key\n",
    "        else:\n",
    "            i += 1\n",
    "        if i == m:\n",
    "            break\n",
    "    print(\"hash table overflow\")"
   ]
  },
  {
   "cell_type": "code",
   "execution_count": 60,
   "metadata": {
    "scrolled": true
   },
   "outputs": [
    {
     "ename": "ZeroDivisionError",
     "evalue": "integer division or modulo by zero",
     "output_type": "error",
     "traceback": [
      "\u001b[0;31m---------------------------------------------------------------------------\u001b[0m",
      "\u001b[0;31mZeroDivisionError\u001b[0m                         Traceback (most recent call last)",
      "\u001b[0;32m<ipython-input-60-920018262c34>\u001b[0m in \u001b[0;36m<module>\u001b[0;34m\u001b[0m\n\u001b[1;32m      2\u001b[0m \u001b[0mm\u001b[0m \u001b[0;34m=\u001b[0m \u001b[0;36m4\u001b[0m\u001b[0;34m\u001b[0m\u001b[0;34m\u001b[0m\u001b[0m\n\u001b[1;32m      3\u001b[0m \u001b[0mhash_table\u001b[0m \u001b[0;34m=\u001b[0m \u001b[0;34m[\u001b[0m\u001b[0;32mNone\u001b[0m\u001b[0;34m]\u001b[0m \u001b[0;34m*\u001b[0m \u001b[0mm\u001b[0m\u001b[0;34m\u001b[0m\u001b[0;34m\u001b[0m\u001b[0m\n\u001b[0;32m----> 4\u001b[0;31m \u001b[0mhash_insert\u001b[0m\u001b[0;34m(\u001b[0m\u001b[0mhash_table\u001b[0m\u001b[0;34m,\u001b[0m\u001b[0mk\u001b[0m\u001b[0;34m,\u001b[0m\u001b[0mm\u001b[0m\u001b[0;34m)\u001b[0m\u001b[0;34m\u001b[0m\u001b[0;34m\u001b[0m\u001b[0m\n\u001b[0m\u001b[1;32m      5\u001b[0m \u001b[0mprint\u001b[0m\u001b[0;34m(\u001b[0m\u001b[0mhash_table\u001b[0m\u001b[0;34m)\u001b[0m\u001b[0;34m\u001b[0m\u001b[0;34m\u001b[0m\u001b[0m\n\u001b[1;32m      6\u001b[0m \u001b[0mhash_insert\u001b[0m\u001b[0;34m(\u001b[0m\u001b[0mhash_table\u001b[0m\u001b[0;34m,\u001b[0m\u001b[0;36m11\u001b[0m\u001b[0;34m,\u001b[0m\u001b[0mm\u001b[0m\u001b[0;34m)\u001b[0m\u001b[0;34m\u001b[0m\u001b[0;34m\u001b[0m\u001b[0m\n",
      "\u001b[0;32m<ipython-input-59-70eca67c13c7>\u001b[0m in \u001b[0;36mhash_insert\u001b[0;34m(hash_table, k, m)\u001b[0m\n\u001b[1;32m      3\u001b[0m     \u001b[0;32mwhile\u001b[0m \u001b[0;32mTrue\u001b[0m\u001b[0;34m:\u001b[0m\u001b[0;34m\u001b[0m\u001b[0;34m\u001b[0m\u001b[0m\n\u001b[1;32m      4\u001b[0m \u001b[0;31m#         print(i)\u001b[0m\u001b[0;34m\u001b[0m\u001b[0;34m\u001b[0m\u001b[0;34m\u001b[0m\u001b[0m\n\u001b[0;32m----> 5\u001b[0;31m         \u001b[0mhash_key\u001b[0m \u001b[0;34m=\u001b[0m \u001b[0mlc_hashing_func\u001b[0m\u001b[0;34m(\u001b[0m\u001b[0mk\u001b[0m\u001b[0;34m,\u001b[0m\u001b[0mi\u001b[0m\u001b[0;34m)\u001b[0m\u001b[0;34m\u001b[0m\u001b[0;34m\u001b[0m\u001b[0m\n\u001b[0m\u001b[1;32m      6\u001b[0m         \u001b[0;32mif\u001b[0m \u001b[0mhash_table\u001b[0m\u001b[0;34m[\u001b[0m\u001b[0mhash_key\u001b[0m\u001b[0;34m]\u001b[0m \u001b[0;34m==\u001b[0m \u001b[0;32mNone\u001b[0m\u001b[0;34m:\u001b[0m\u001b[0;34m\u001b[0m\u001b[0;34m\u001b[0m\u001b[0m\n\u001b[1;32m      7\u001b[0m             \u001b[0mhash_table\u001b[0m\u001b[0;34m[\u001b[0m\u001b[0mhash_key\u001b[0m\u001b[0;34m]\u001b[0m \u001b[0;34m=\u001b[0m \u001b[0mk\u001b[0m\u001b[0;34m\u001b[0m\u001b[0;34m\u001b[0m\u001b[0m\n",
      "\u001b[0;32m<ipython-input-37-9bbabb19e619>\u001b[0m in \u001b[0;36mlc_hashing_func\u001b[0;34m(k, m)\u001b[0m\n\u001b[1;32m      3\u001b[0m     \u001b[0ma\u001b[0m \u001b[0;34m=\u001b[0m \u001b[0;36m8191\u001b[0m\u001b[0;34m\u001b[0m\u001b[0;34m\u001b[0m\u001b[0m\n\u001b[1;32m      4\u001b[0m     \u001b[0mb\u001b[0m \u001b[0;34m=\u001b[0m \u001b[0;36m127\u001b[0m\u001b[0;34m\u001b[0m\u001b[0;34m\u001b[0m\u001b[0m\n\u001b[0;32m----> 5\u001b[0;31m     \u001b[0;32mreturn\u001b[0m \u001b[0;34m(\u001b[0m\u001b[0;34m(\u001b[0m\u001b[0ma\u001b[0m \u001b[0;34m*\u001b[0m \u001b[0mk\u001b[0m \u001b[0;34m+\u001b[0m \u001b[0mb\u001b[0m\u001b[0;34m)\u001b[0m \u001b[0;34m%\u001b[0m \u001b[0mp\u001b[0m\u001b[0;34m)\u001b[0m \u001b[0;34m%\u001b[0m \u001b[0mm\u001b[0m\u001b[0;34m\u001b[0m\u001b[0;34m\u001b[0m\u001b[0m\n\u001b[0m\u001b[1;32m      6\u001b[0m \u001b[0;34m\u001b[0m\u001b[0m\n\u001b[1;32m      7\u001b[0m \u001b[0mk\u001b[0m \u001b[0;34m=\u001b[0m \u001b[0;36m12453\u001b[0m\u001b[0;34m\u001b[0m\u001b[0;34m\u001b[0m\u001b[0m\n",
      "\u001b[0;31mZeroDivisionError\u001b[0m: integer division or modulo by zero"
     ]
    }
   ],
   "source": [
    "k = 12459\n",
    "m = 4\n",
    "hash_table = [None] * m\n",
    "hash_insert(hash_table,k,m)\n",
    "print(hash_table)\n",
    "hash_insert(hash_table,11,m)\n",
    "print(hash_table)\n",
    "hash_insert(hash_table,12,m)\n",
    "print(hash_table)\n",
    "hash_insert(hash_table,13,m)\n",
    "print(hash_table)"
   ]
  },
  {
   "cell_type": "code",
   "execution_count": null,
   "metadata": {},
   "outputs": [],
   "source": [
    "def hash_search(hash_table,k,m):\n",
    "    i = 0\n",
    "    while True:\n",
    "        hash_key = m_hashing_func(k,i)\n",
    "        if hash_table[hash_key] == k:\n",
    "            return hash_key\n",
    "        i += 1\n",
    "        \n",
    "        if (hash_table[hash_key] == None or i == m):\n",
    "            break\n",
    "    return None"
   ]
  },
  {
   "cell_type": "code",
   "execution_count": null,
   "metadata": {},
   "outputs": [],
   "source": [
    "hash_search(hash_table,345,m)"
   ]
  }
 ],
 "metadata": {
  "kernelspec": {
   "display_name": "Python 3",
   "language": "python",
   "name": "python3"
  },
  "language_info": {
   "codemirror_mode": {
    "name": "ipython",
    "version": 3
   },
   "file_extension": ".py",
   "mimetype": "text/x-python",
   "name": "python",
   "nbconvert_exporter": "python",
   "pygments_lexer": "ipython3",
   "version": "3.8.5"
  }
 },
 "nbformat": 4,
 "nbformat_minor": 4
}
