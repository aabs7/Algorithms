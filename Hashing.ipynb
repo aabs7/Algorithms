{
 "cells": [
  {
   "cell_type": "markdown",
   "metadata": {},
   "source": [
    "## Very simple implementation (Simple hash table)\n",
    "\n",
    "This deals with generating slot or index to any \"key\" value. Perfect hashing or perfect hash function is the one which assigns a unique slot for every key value. Sometimes, there can be cases where the hash function generates the same index for multiple key values. The size of the hash table can be increased to improve the perfection of the hash function "
   ]
  },
  {
   "cell_type": "code",
   "execution_count": 1,
   "metadata": {},
   "outputs": [
    {
     "name": "stdout",
     "output_type": "stream",
     "text": [
      "[None, None, None, None, None, None, None, None, None, None]\n"
     ]
    }
   ],
   "source": [
    "# 10 size hash table\n",
    "hash_table = [None] * 10\n",
    "print(hash_table)"
   ]
  },
  {
   "cell_type": "code",
   "execution_count": 2,
   "metadata": {},
   "outputs": [
    {
     "name": "stdout",
     "output_type": "stream",
     "text": [
      "0\n",
      "5\n"
     ]
    }
   ],
   "source": [
    "def hashing_func(key):\n",
    "    return key % len(hash_table)\n",
    "\n",
    "# Simple hash function that returns the modulus of the length of the\n",
    "# table. \n",
    "\n",
    "print(hashing_func(10))\n",
    "print(hashing_func(25))"
   ]
  },
  {
   "cell_type": "code",
   "execution_count": 3,
   "metadata": {},
   "outputs": [
    {
     "name": "stdout",
     "output_type": "stream",
     "text": [
      "['Nepal', None, None, None, None, None, None, None, None, None]\n"
     ]
    }
   ],
   "source": [
    "# Inserting data into hash table.\n",
    "def insert(hash_table,key,value):\n",
    "    hash_key = hashing_func(key)\n",
    "    hash_table[hash_key] = value\n",
    "    \n",
    "def delete(hash_table,key):\n",
    "    hash_key = hashing_func(key)\n",
    "    hash_table[hash_key] = None\n",
    "    \n",
    "def search(hash_table,key):\n",
    "    hash_key = hashing_func(key)\n",
    "    return hash_table[hash_key]\n",
    "    \n",
    "insert(hash_table,10,'Nepal')\n",
    "print(hash_table)"
   ]
  },
  {
   "cell_type": "code",
   "execution_count": 4,
   "metadata": {},
   "outputs": [
    {
     "name": "stdout",
     "output_type": "stream",
     "text": [
      "['Nepal', None, None, None, None, 'USA', None, None, None, None]\n"
     ]
    }
   ],
   "source": [
    "insert(hash_table,25,'USA')\n",
    "print(hash_table)"
   ]
  },
  {
   "cell_type": "code",
   "execution_count": 5,
   "metadata": {},
   "outputs": [
    {
     "name": "stdout",
     "output_type": "stream",
     "text": [
      "['Nepal', None, None, None, None, None, None, None, None, None]\n",
      "Nepal\n"
     ]
    }
   ],
   "source": [
    "delete(hash_table,5)\n",
    "\n",
    "print(hash_table)\n",
    "\n",
    "print(search(hash_table,0))"
   ]
  },
  {
   "cell_type": "markdown",
   "metadata": {},
   "source": [
    "### Collision: \n",
    "\n",
    "A collision occurs when two items/value get the same slot/index, i.e the hashing function generates same slot number for multiple items. If proper collision resolution steps are not taken then the previous item in the slot will be replaced by the new item whenever the collision occurs. \n",
    "\n",
    "Eg:\n"
   ]
  },
  {
   "cell_type": "code",
   "execution_count": 6,
   "metadata": {},
   "outputs": [
    {
     "name": "stdout",
     "output_type": "stream",
     "text": [
      "['India', None, None, None, None, None, None, None, None, None]\n"
     ]
    }
   ],
   "source": [
    "insert(hash_table,20,'India')\n",
    "print(hash_table)"
   ]
  },
  {
   "cell_type": "markdown",
   "metadata": {},
   "source": [
    "As you can see that 'Nepal' is replaced by 'India' as the first item of the hash table because the result of ```hashing_func``` for keys 10 and 20 is the same i.e 0\n",
    "\n",
    "\n",
    "### Collision Resolution:\n",
    "\n",
    "### 1) Chaining:\n",
    "This allows multiple items to exist in the same slot/index. We place all the elements that has key to the same slot into the same linked list. This slot 'j' contains a pointer to the head of the list of all stored elements that hash to 'j'.\n"
   ]
  },
  {
   "cell_type": "code",
   "execution_count": 7,
   "metadata": {},
   "outputs": [
    {
     "name": "stdout",
     "output_type": "stream",
     "text": [
      "[[], [], [], [], [], [], [], [], [], []]\n"
     ]
    }
   ],
   "source": [
    "hash_table = [[] for _ in range(10)]\n",
    "print(hash_table)"
   ]
  },
  {
   "cell_type": "code",
   "execution_count": 8,
   "metadata": {},
   "outputs": [],
   "source": [
    "def chained_hash_insert(hash_table,key,value):\n",
    "    hash_key = hashing_func(key)\n",
    "    hash_table[hash_key].append(value)\n",
    "    \n",
    "def chained_hash_delete(hash_table,key):\n",
    "    hash_key = hashing_func(key)\n",
    "    hash_table[hash_key] = []\n",
    "    \n",
    "def chained_hash_search(hash_table,key):\n",
    "    hash_key = hashing_func(key)\n",
    "    return(hash_table[hash_key])"
   ]
  },
  {
   "cell_type": "code",
   "execution_count": 9,
   "metadata": {},
   "outputs": [
    {
     "name": "stdout",
     "output_type": "stream",
     "text": [
      "[['Nepal'], [], [], [], [], [], [], [], [], []]\n",
      "\r\n",
      "\n",
      "[['Nepal'], [], [], [], [], ['USA'], [], [], [], []]\n",
      "\r\n",
      "\n",
      "[['Nepal', 'India'], [], [], [], [], ['USA'], [], [], [], []]\n",
      "\r\n",
      "\n"
     ]
    }
   ],
   "source": [
    "chained_hash_insert(hash_table,10,'Nepal')\n",
    "print(hash_table)\n",
    "print(\"\\r\\n\")\n",
    "\n",
    "chained_hash_insert(hash_table,25,'USA')\n",
    "print(hash_table)\n",
    "print(\"\\r\\n\")\n",
    "\n",
    "chained_hash_insert(hash_table,20,'India')\n",
    "print(hash_table)\n",
    "print(\"\\r\\n\")"
   ]
  },
  {
   "cell_type": "markdown",
   "metadata": {},
   "source": [
    "For searching in **chaining** method, first we have to calculate the hash value of the element. Then we can go to the index for the hash value. If the element is in the first index of the linked list stored in that index, then we return that value. If the element is not in the first index of the linked list, we linearly search for the element in the linked list and we return the element. This traversing ofcourse comes with some cost. Although the element is stored in the same index using linked list, when the load factor is low, it is more efficient to use **Open addressing** for conflict resolution (see below)."
   ]
  },
  {
   "cell_type": "code",
   "execution_count": 10,
   "metadata": {},
   "outputs": [
    {
     "name": "stdout",
     "output_type": "stream",
     "text": [
      "[['Nepal', 'India'], [], [], [], [], [], [], [], [], []]\n"
     ]
    }
   ],
   "source": [
    "chained_hash_delete(hash_table,5)\n",
    "print(hash_table)"
   ]
  },
  {
   "cell_type": "code",
   "execution_count": 11,
   "metadata": {},
   "outputs": [
    {
     "data": {
      "text/plain": [
       "['Nepal', 'India']"
      ]
     },
     "execution_count": 11,
     "metadata": {},
     "output_type": "execute_result"
    }
   ],
   "source": [
    "chained_hash_search(hash_table, 20)"
   ]
  },
  {
   "cell_type": "code",
   "execution_count": 12,
   "metadata": {},
   "outputs": [
    {
     "name": "stdout",
     "output_type": "stream",
     "text": [
      "[[], [], [], [], [], [], [], [], [], []]\n"
     ]
    }
   ],
   "source": [
    "chained_hash_delete(hash_table,10)\n",
    "print(hash_table)"
   ]
  },
  {
   "cell_type": "markdown",
   "metadata": {},
   "source": [
    "# Hash functions\n",
    "\n",
    "### Objective of Hash functions:\n",
    "- Minimize collisions\n",
    "- Uniform distribution of hash values\n",
    "- Easy to calculate\n",
    "- Resolve any collisions\n",
    "\n",
    "1) **The division method:**\n",
    "\n",
    "```h(k) = k mod(m)```"
   ]
  },
  {
   "cell_type": "code",
   "execution_count": 13,
   "metadata": {},
   "outputs": [
    {
     "data": {
      "text/plain": [
       "10"
      ]
     },
     "execution_count": 13,
     "metadata": {},
     "output_type": "execute_result"
    }
   ],
   "source": [
    "def d_hashing_func(k,m):\n",
    "    return (k % m)\n",
    "\n",
    "d_hashing_func(1234,12)"
   ]
  },
  {
   "cell_type": "markdown",
   "metadata": {},
   "source": [
    "Avoid ```m = 2 ^ p``` because h(k) will always be p-lowest bit of k. For example"
   ]
  },
  {
   "cell_type": "code",
   "execution_count": 14,
   "metadata": {},
   "outputs": [
    {
     "name": "stdout",
     "output_type": "stream",
     "text": [
      "0b100\n",
      "0b101\n",
      "0b111\n"
     ]
    }
   ],
   "source": [
    "a1 = 0b100110100\n",
    "a2 = 0b11101110101\n",
    "a3 = 0b1100000111\n",
    "m = 2 ** 3\n",
    "\n",
    "h1 = d_hashing_func(a1,m)\n",
    "h2 = d_hashing_func(a2,m)\n",
    "h3 = d_hashing_func(a3,m)\n",
    "\n",
    "print(bin(h1))\n",
    "print(bin(h2))\n",
    "print(bin(h3))\n",
    "\n",
    "## Permuting the characters of k doesn't change it's hash value"
   ]
  },
  {
   "cell_type": "markdown",
   "metadata": {},
   "source": [
    "2) **The multiplication method**:\n",
    "\n",
    "```h(k) = floor(m(kA mod 1))``` where k is key and A can be any constant value between 0 and 1. both k and A are multiplied and their fractional part is seperated. \n",
    "\n",
    "The advantage here is that the value of m is not critical. we typically chose this as a power of 2. ```m = 2 ^ p``` because it is easier for computer to perform. "
   ]
  },
  {
   "cell_type": "code",
   "execution_count": 15,
   "metadata": {},
   "outputs": [
    {
     "name": "stdout",
     "output_type": "stream",
     "text": [
      "4\n"
     ]
    }
   ],
   "source": [
    "import numpy as np\n",
    "\n",
    "def m_hashing_func(k,m,A=0.618033):\n",
    "    return int(np.floor(m * ((k * A) % 1)))\n",
    "\n",
    "k = 12453\n",
    "m = 12\n",
    "\n",
    "print(m_hashing_func(k,m))"
   ]
  },
  {
   "cell_type": "markdown",
   "metadata": {},
   "source": [
    "3) **The Universal method:**\n",
    "\n",
    "```h(k) = ((a * k + b) mod p ) mod m``` where k = key, p = large prime number, a & b = another prime number\n"
   ]
  },
  {
   "cell_type": "code",
   "execution_count": 16,
   "metadata": {},
   "outputs": [
    {
     "name": "stdout",
     "output_type": "stream",
     "text": [
      "156\n",
      "155\n",
      "970\n"
     ]
    }
   ],
   "source": [
    "def lc_hashing_func(k,m): #lc = linear combination\n",
    "    p = 524287\n",
    "    a = 8191\n",
    "    b = 127\n",
    "    return ((a * k + b) % p) % m\n",
    "\n",
    "k = 12453\n",
    "k2 = 12454\n",
    "k5 = 1224\n",
    "m = 2 ** 11\n",
    "\n",
    "print(lc_hashing_func(k,m))\n",
    "print(lc_hashing_func(k2,m))\n",
    "print(lc_hashing_func(k5,m))"
   ]
  },
  {
   "cell_type": "markdown",
   "metadata": {},
   "source": [
    "# Open Addressing"
   ]
  },
  {
   "cell_type": "markdown",
   "metadata": {},
   "source": [
    " In open addressing, all elements are stored in the hash table itself. That is, each table entry contains either an element of the dynamic set or NIL. When searching for an element, we systematically examine table slots until the desired element is found or it is clear that the element is not in the table. This is called **linear probing**. The method is called **open addressing** because the table is open for the element to position if the desired index is occupied by other elements."
   ]
  },
  {
   "cell_type": "code",
   "execution_count": 17,
   "metadata": {},
   "outputs": [],
   "source": [
    "def hash_insert(hash_table,k,m):\n",
    "    i = 1\n",
    "    while (i != m):\n",
    "#         print(i)\n",
    "        hash_key = lc_hashing_func(k,i)\n",
    "        if hash_table[hash_key] == None:\n",
    "            hash_table[hash_key] = k\n",
    "            return hash_key\n",
    "        else:\n",
    "            i += 1\n",
    "    print(\"hash table overflow\")"
   ]
  },
  {
   "cell_type": "code",
   "execution_count": 18,
   "metadata": {
    "scrolled": true
   },
   "outputs": [
    {
     "name": "stdout",
     "output_type": "stream",
     "text": [
      "[12459, None, None, None]\n",
      "hash table overflow\n",
      "[12459, None, None, None]\n",
      "[12459, 12, None, None]\n",
      "[12459, 12, 13, None]\n"
     ]
    }
   ],
   "source": [
    "k = 12459\n",
    "m = 4\n",
    "hash_table = [None] * m\n",
    "hash_insert(hash_table,k,m)\n",
    "print(hash_table)\n",
    "hash_insert(hash_table,11,m)\n",
    "print(hash_table)\n",
    "hash_insert(hash_table,12,m)\n",
    "print(hash_table)\n",
    "hash_insert(hash_table,13,m)\n",
    "print(hash_table)\n",
    "hash_insert(hash_table,)"
   ]
  },
  {
   "cell_type": "markdown",
   "metadata": {},
   "source": [
    "When searching an element, hash function is used to find the index of the element. If the element is not present in the index, because of the collision, then finding the item will also involve **linear probing** i.e linear search by incrementing the index by 1 and searching again until the element is found."
   ]
  },
  {
   "cell_type": "code",
   "execution_count": 22,
   "metadata": {},
   "outputs": [],
   "source": [
    "def hash_search(hash_table,k,m):\n",
    "    i = 0\n",
    "    while True:\n",
    "        hash_key = m_hashing_func(k,i)\n",
    "        if hash_table[hash_key] == k:\n",
    "            return hash_key\n",
    "        i += 1\n",
    "        \n",
    "        if (hash_table[hash_key] == None or i == m):\n",
    "            print(\"Element not in hash table because the table was overflowed, or the element is not stored in the table\")\n",
    "            break\n",
    "    return None"
   ]
  },
  {
   "cell_type": "code",
   "execution_count": 20,
   "metadata": {},
   "outputs": [],
   "source": [
    "hash_search(hash_table,345,m)"
   ]
  },
  {
   "cell_type": "markdown",
   "metadata": {},
   "source": [
    "$$ Load Factor = \\frac{n}{m}$$\n",
    "where, $n$ = number of key hashed, and $m$ = table size \n",
    "\n",
    "As long as the load factor is low, the linear probing method should work reasonably well. \n",
    "\n",
    "Another way to deal with collision is called **chaining**, which is explained above.\n",
    "\n",
    "#### Linear Probing: \n",
    "We can use linear probing as explained above, but it can result in **Primary clustering**. In other words, keys might bunch together in an array, while the large proportion of the space in the array is unoccupied. There are alternatives of Linear probing, called **Plus 3 rehash**. In this method, index value is increased by 3 instead of 1. \n",
    "\n",
    "#### Quadratic Probing\n",
    "Quadratic probing will square the number of failed attempt to decide how far the index to look for / or insert next. \n",
    "\n",
    "#### Double Hashing\n",
    "Double hashing applies a second hash function to the key when the collision occurs. The number from the second hash function gives the number of index from the point where the collision occurs to look for/ or insert the element. \n",
    "\n",
    "\n",
    "# Closed addressing\n",
    "This involves chaining items that have collided in the linked list or in other suitable data structure. (See above for implementation)"
   ]
  }
 ],
 "metadata": {
  "kernelspec": {
   "display_name": "Python 3",
   "language": "python",
   "name": "python3"
  },
  "language_info": {
   "codemirror_mode": {
    "name": "ipython",
    "version": 3
   },
   "file_extension": ".py",
   "mimetype": "text/x-python",
   "name": "python",
   "nbconvert_exporter": "python",
   "pygments_lexer": "ipython3",
   "version": "3.8.8"
  }
 },
 "nbformat": 4,
 "nbformat_minor": 4
}
