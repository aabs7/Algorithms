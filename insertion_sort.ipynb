{
 "cells": [
  {
   "cell_type": "code",
   "execution_count": 16,
   "id": "comprehensive-seattle",
   "metadata": {},
   "outputs": [],
   "source": [
    "import numpy as np"
   ]
  },
  {
   "cell_type": "code",
   "execution_count": 17,
   "id": "celtic-gardening",
   "metadata": {},
   "outputs": [],
   "source": [
    "sorting = [5,2,4,6,1,3]"
   ]
  },
  {
   "cell_type": "code",
   "execution_count": 18,
   "id": "incredible-worth",
   "metadata": {},
   "outputs": [
    {
     "name": "stdout",
     "output_type": "stream",
     "text": [
      "6\n"
     ]
    }
   ],
   "source": [
    "print(len(sorting))"
   ]
  },
  {
   "cell_type": "code",
   "execution_count": 19,
   "id": "tracked-necessity",
   "metadata": {},
   "outputs": [
    {
     "name": "stdout",
     "output_type": "stream",
     "text": [
      "[1, 2, 3, 4, 5, 6]\n"
     ]
    }
   ],
   "source": [
    "for j in range(1,len(sorting)):\n",
    "    key = sorting[j]\n",
    "    # Insert sorting[j] into the sorted sequence \n",
    "    i = j - 1\n",
    "    while(i >= 0 and sorting[i] > key):\n",
    "        sorting[i + 1] = sorting[i]\n",
    "        i = i - 1\n",
    "    sorting[i+1] = key\n",
    "    \n",
    "print(sorting)"
   ]
  },
  {
   "cell_type": "code",
   "execution_count": 22,
   "id": "legendary-decline",
   "metadata": {},
   "outputs": [],
   "source": [
    "def insertion_sort(sorting):\n",
    "    for j in range(1,len(sorting)):\n",
    "        key = sorting[j]\n",
    "        # Insert sorting[j] into the sorted sequence \n",
    "        i = j - 1\n",
    "        while(i >= 0 and sorting[i] > key):\n",
    "            sorting[i + 1] = sorting[i]\n",
    "            i = i - 1\n",
    "        sorting[i+1] = key\n",
    "    \n",
    "    return sorting"
   ]
  },
  {
   "cell_type": "code",
   "execution_count": 23,
   "id": "sustainable-glenn",
   "metadata": {},
   "outputs": [
    {
     "name": "stdout",
     "output_type": "stream",
     "text": [
      "[1, 2, 2, 3, 5, 10, 50]\n"
     ]
    }
   ],
   "source": [
    "array = [2,10,1,2,50,3,5]\n",
    "sorted_array = insertion_sort(array)\n",
    "print(sorted_array)"
   ]
  },
  {
   "cell_type": "code",
   "execution_count": null,
   "id": "actual-dollar",
   "metadata": {},
   "outputs": [],
   "source": []
  }
 ],
 "metadata": {
  "kernelspec": {
   "display_name": "Python 3",
   "language": "python",
   "name": "python3"
  },
  "language_info": {
   "codemirror_mode": {
    "name": "ipython",
    "version": 3
   },
   "file_extension": ".py",
   "mimetype": "text/x-python",
   "name": "python",
   "nbconvert_exporter": "python",
   "pygments_lexer": "ipython3",
   "version": "3.8.5"
  }
 },
 "nbformat": 4,
 "nbformat_minor": 5
}
